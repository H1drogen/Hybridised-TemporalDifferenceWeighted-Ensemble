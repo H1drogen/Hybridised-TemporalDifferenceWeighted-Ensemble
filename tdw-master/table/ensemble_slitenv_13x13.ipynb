{
 "cells": [
  {
   "cell_type": "code",
   "execution_count": null,
   "metadata": {
    "collapsed": true
   },
   "outputs": [],
   "source": [
    "%matplotlib inline\n",
    "import matplotlib.pyplot as plt\n",
    "import numpy as np\n",
    "import pickle\n",
    "import os\n",
    "\n",
    "from scipy import stats\n",
    "from env import SlitEnv\n",
    "from q_table import QTable\n",
    "from ensembles import TDWAverageEnsemble, TDWVoteEnsemble\n",
    "from ensembles import Single, AverageEnsemble, VoteEnsemble\n",
    "from train import train, evaluate_ensemble, evaluate_combinations, evaluate_or_load"
   ]
  },
  {
   "cell_type": "code",
   "execution_count": null,
   "metadata": {},
   "outputs": [],
   "source": [
    "EPSILON = 0.3\n",
    "STEPS = 1000000\n",
    "\n",
    "env = SlitEnv(13, goal_reward=100.0, step_penalty=-0.1)\n",
    "\n",
    "if not os.path.exists('q_table_slitenv_13x13.pkl'):\n",
    "    q_tables  = [QTable(env.size ** 2, 4) for _ in range(10)]\n",
    "\n",
    "    for i, q_table in enumerate(q_tables):\n",
    "        steps, rewards = train(env, q_table, i, STEPS, EPSILON)\n",
    "        plt.plot(steps, rewards, label='table{}'.format(i))\n",
    "    plt.title('training reward')\n",
    "    plt.legend()\n",
    "    with open('q_table_slitenv_13x13.pkl', 'wb') as f:\n",
    "        pickle.dump(q_tables, f)\n",
    "else:\n",
    "    with open('q_table_slitenv_13x13.pkl', 'rb') as f:\n",
    "        q_tables = pickle.load(f)"
   ]
  },
  {
   "cell_type": "code",
   "execution_count": null,
   "metadata": {},
   "outputs": [],
   "source": [
    "q_tables[0].visualize()"
   ]
  },
  {
   "cell_type": "code",
   "execution_count": null,
   "metadata": {},
   "outputs": [],
   "source": [
    "q_tables[1].visualize()"
   ]
  },
  {
   "cell_type": "code",
   "execution_count": null,
   "metadata": {},
   "outputs": [],
   "source": [
    "q_tables[2].visualize()"
   ]
  },
  {
   "cell_type": "code",
   "execution_count": null,
   "metadata": {},
   "outputs": [],
   "source": [
    "q_tables[3].visualize()"
   ]
  },
  {
   "cell_type": "code",
   "execution_count": null,
   "metadata": {},
   "outputs": [],
   "source": [
    "q_tables[4].visualize()"
   ]
  },
  {
   "cell_type": "code",
   "execution_count": null,
   "metadata": {},
   "outputs": [],
   "source": [
    "q_tables[5].visualize()"
   ]
  },
  {
   "cell_type": "code",
   "execution_count": null,
   "metadata": {},
   "outputs": [],
   "source": [
    "q_tables[6].visualize()"
   ]
  },
  {
   "cell_type": "code",
   "execution_count": null,
   "metadata": {},
   "outputs": [],
   "source": [
    "q_tables[7].visualize()"
   ]
  },
  {
   "cell_type": "code",
   "execution_count": null,
   "metadata": {},
   "outputs": [],
   "source": [
    "q_tables[8].visualize()"
   ]
  },
  {
   "cell_type": "code",
   "execution_count": null,
   "metadata": {},
   "outputs": [],
   "source": [
    "q_tables[9].visualize()"
   ]
  },
  {
   "cell_type": "code",
   "execution_count": null,
   "metadata": {},
   "outputs": [],
   "source": [
    "avg10_rewards = evaluate_or_load(10, 'slitenv', 'average10', env, q_tables, lambda x: AverageEnsemble(x),\n",
    "                                                               10, num_episodes=20000, epsilon=0.1)\n",
    "\n",
    "vote10_rewards = evaluate_or_load(10, 'slitenv', 'vote10', env, q_tables, lambda x: VoteEnsemble(x),\n",
    "                                                                 10, num_episodes=20000, epsilon=0.1)\n",
    "\n",
    "tdw_avg10_rewards_by_decay= []\n",
    "for i in range(5):    \n",
    "    rewards = evaluate_or_load(10, 'slitenv', 'tdw_avg10_{}'.format(i*2), env, q_tables,\n",
    "                                                      lambda x: TDWAverageEnsemble(x, decay=i * 0.2), 10,\n",
    "                                                       num_episodes=20000, epsilon=0.1)\n",
    "    tdw_avg10_rewards_by_decay.append(rewards)\n",
    "\n",
    "tdw_vote10_rewards_by_decay= []\n",
    "for i in range(5):    \n",
    "    rewards = evaluate_or_load(10, 'slitenv', 'tdw_vote10_{}'.format(i*2), env, q_tables,\n",
    "                                                      lambda x: TDWVoteEnsemble(x, decay=i * 0.2), 10,\n",
    "                                                       num_episodes=20000, epsilon=0.1)\n",
    "    tdw_vote10_rewards_by_decay.append(rewards)"
   ]
  },
  {
   "cell_type": "code",
   "execution_count": null,
   "metadata": {},
   "outputs": [],
   "source": [
    "print('average (N=10)', np.mean(avg10_rewards), '({})'.format(np.std(avg10_rewards)))\n",
    "for i in range(5):\n",
    "    decay = i * 0.2\n",
    "    print('tdw average (N=10, decay={})'.format(decay),\n",
    "              np.mean(tdw_avg10_rewards_by_decay[i]),\n",
    "              '({})'.format(np.std(tdw_avg10_rewards_by_decay[i])))"
   ]
  },
  {
   "cell_type": "code",
   "execution_count": null,
   "metadata": {},
   "outputs": [],
   "source": [
    "print('vote (N=10)', np.mean(vote10_rewards), '({})'.format(np.std(vote10_rewards)))\n",
    "for i in range(5):\n",
    "    decay = i * 0.2\n",
    "    print('tdw vote (N=10, decay={})'.format(decay),\n",
    "              np.mean(tdw_vote10_rewards_by_decay[i]),\n",
    "              '({})'.format(np.std(tdw_vote10_rewards_by_decay[i])))"
   ]
  },
  {
   "cell_type": "code",
   "execution_count": null,
   "metadata": {},
   "outputs": [],
   "source": [
    "single_rewards = evaluate_or_load(1, 'slitenv', 'single', env, q_tables, lambda x: Single(x),\n",
    "                                                               10, num_episodes=20000, epsilon=0.1)\n",
    "print('single', np.mean(single_rewards), '({})'.format(np.std(single_rewards)))"
   ]
  }
 ],
 "metadata": {
  "kernelspec": {
   "display_name": "Python 3",
   "language": "python",
   "name": "python3"
  },
  "language_info": {
   "codemirror_mode": {
    "name": "ipython",
    "version": 3
   },
   "file_extension": ".py",
   "mimetype": "text/x-python",
   "name": "python",
   "nbconvert_exporter": "python",
   "pygments_lexer": "ipython3",
   "version": "3.6.1"
  }
 },
 "nbformat": 4,
 "nbformat_minor": 2
}
